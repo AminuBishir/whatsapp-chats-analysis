{
 "cells": [
  {
   "cell_type": "code",
   "execution_count": null,
   "metadata": {},
   "outputs": [],
   "source": [
    "import pandas as pd\n",
    "import re\n",
    "import matplotlib.pyplot as plt\n",
    "plt.style.use('ggplot')"
   ]
  },
  {
   "cell_type": "code",
   "execution_count": null,
   "metadata": {},
   "outputs": [],
   "source": [
    "# The whatsApp chat data is exported as a .txt file\n",
    "#Red txt data file (note: the text file should be in the same directory as this notebook)\n",
    "\n",
    "with open(\"EXPORTED CHAT.txt\", \"r\", encoding = \"utf-8\") as file:\n",
    "    chats = file.readlines()\n",
    "print(len(chats))\n"
   ]
  },
  {
   "cell_type": "code",
   "execution_count": null,
   "metadata": {},
   "outputs": [],
   "source": [
    "#Remove new lines\n",
    "chats = [line.strip() for line in chats]\n",
    "chats[:10]\n",
    "\n",
    "\n",
    "#Getting join notification (when new members join the group) lines\n",
    "join_notif = [line for line in chats if  \"joined using this\" in line]\n",
    "print(join_notif[:3]) # you and the next two people who joined after you\n",
    "print()\n",
    "print('number of people that joined after you = ' +str(len(join_notif)-1))\n",
    "print()\n",
    "\n",
    "#Clean out the join notification lines and admin added notification\n",
    "rifesh = [line for line in chats if not \"joined using this\" in line]\n",
    "rifesh = [line for line in rifesh if not 'added +234' in line]\n",
    "\n",
    "#Further cleaning\n",
    "#Remove empty lines\n",
    "rifesh = [line for line in rifesh if len(line) > 1]\n",
    "print(\"number of chats = \" + str(len(rifesh)))"
   ]
  },
  {
   "cell_type": "code",
   "execution_count": null,
   "metadata": {},
   "outputs": [],
   "source": [
    "#Remove even more auto lines\n",
    "rifesh = [line for line in rifesh if not \"You revoked\" in line]\n",
    "print(len(rifesh))"
   ]
  },
  {
   "cell_type": "code",
   "execution_count": null,
   "metadata": {},
   "outputs": [],
   "source": [
    "#Drop notification for people who left the group'left-ers'\n",
    "left1 = [line for line in rifesh if line.endswith(\"left\")]\n",
    "print(\"number of people who left since you joined = \" + str(len(left1)))\n",
    "print()\n",
    "rifesh = [line for line in rifesh if not line.endswith(\"left\")]\n",
    "print(\"number of chats remaining = \" + str(len(rifesh)))"
   ]
  },
  {
   "cell_type": "code",
   "execution_count": null,
   "metadata": {},
   "outputs": [],
   "source": [
    "#Merge messages that belong together\n",
    "msgs = [] #message container\n",
    "pos = 0 #counter for position of msgs in the container\n",
    "\"\"\"\n",
    "Flow:\n",
    "For every line, see if it matches the expression which is starting with the format \"number(s)+slash\" eg \"12/\"\n",
    "If it does, it is a new line of conversion as they begin with dates, add it to msgs container\n",
    "Else, it is a continuation of the previous line, add it to the previous line and append to msgs, then pop previous line.\n",
    "\"\"\"\n",
    "for line in rifesh:\n",
    "    if re.findall(\"\\A\\d+[/]\", line):\n",
    "        msgs.append(line)\n",
    "        pos += 1\n",
    "    else:\n",
    "        take = msgs[pos-1] + \". \" + line\n",
    "        msgs.append(take)\n",
    "        msgs.pop(pos-1)\n",
    "        \n",
    "        \n",
    "\n",
    "print(len(msgs))"
   ]
  },
  {
   "cell_type": "code",
   "execution_count": null,
   "metadata": {},
   "outputs": [],
   "source": [
    "msgs[1:9]"
   ]
  },
  {
   "cell_type": "code",
   "execution_count": null,
   "metadata": {},
   "outputs": [],
   "source": [
    "#Drop first two lines: auto msg (the admin created and the you joined messages)\n",
    "msgs = msgs[2:]\n",
    "len(msgs)"
   ]
  },
  {
   "cell_type": "code",
   "execution_count": null,
   "metadata": {},
   "outputs": [],
   "source": [
    "#peep message format so far\n",
    "msgs[50:55]"
   ]
  },
  {
   "cell_type": "code",
   "execution_count": null,
   "metadata": {},
   "outputs": [],
   "source": [
    "\n",
    "#make arrays of different parts of the messages\n",
    "Date = []\n",
    "Time = []\n",
    "Number_Author = []\n",
    "msg = []\n",
    "counter = 0\n",
    "for line in msgs:\n",
    "    x = line.split()\n",
    "    #Get the date\n",
    "    dating = x[0]\n",
    "    Date.append(dating.replace(',',''))\n",
    "    \n",
    "    #Get the time\n",
    "    timing = x[1] + \" \" +x[2]\n",
    "    Time.append(timing)\n",
    "    \n",
    "    #Get number\n",
    "    num = \" \".join(x[3:9]) #the parts numbers/names fall in\n",
    "    try:\n",
    "        match = re.search(r\"- ([^']*):\", num).group(1) #match between '- ' and ':' where they are per se\n",
    "        Number_Author.append(match)\n",
    "    except:\n",
    "        Number_Author.append(\"-\")\n",
    "        pass\n",
    "    #Get message\n",
    "    \n",
    "    part = line.partition(match)[2] #partition according to the match and extract the last part, the msg\n",
    "    msging = part[2:] #strip off the first two characters as they are \": \"\n",
    "    msg.append(msging)\n",
    "    \n",
    "\n",
    "\n",
    "print(len(Date), len(Time), len(Number_Author), len(msg))"
   ]
  },
  {
   "cell_type": "code",
   "execution_count": null,
   "metadata": {},
   "outputs": [],
   "source": [
    "#Put the different parts in a dataframe\n",
    "rifesh_df = pd.DataFrame()\n",
    "rifesh_df[\"Date\"] = Date\n",
    "rifesh_df[\"Time\"] = Time\n",
    "rifesh_df[\"Number_Author\"] = Number_Author\n",
    "rifesh_df[\"msg\"] = msg\n",
    "\n",
    "rifesh_df.head()"
   ]
  },
  {
   "cell_type": "code",
   "execution_count": null,
   "metadata": {},
   "outputs": [],
   "source": [
    "rifesh_df['Date'].head(50)"
   ]
  },
  {
   "cell_type": "code",
   "execution_count": null,
   "metadata": {},
   "outputs": [],
   "source": [
    "# top most engaged time on the group\n",
    "toptimeengaged = rifesh_df.Time.value_counts(ascending=False).head(10)\n",
    "ax1 = toptimeengaged.plot(kind=\"bar\", color='Darkblue')\n",
    "ax1.set_xlabel ('Time')\n",
    "ax1.set_ylabel ('Frequency')\n",
    "ax1.set_title(\"Top 10 Time of Engagement\")\n",
    "\n",
    "plt.show()\n",
    "%matplotlib inline"
   ]
  },
  {
   "cell_type": "code",
   "execution_count": null,
   "metadata": {},
   "outputs": [],
   "source": [
    "# top 20 posters/noisemakers on the group\n",
    "top20messengers = rifesh_df.Number_Author.value_counts(ascending=False).head(20)\n",
    "\n",
    "ax = top20messengers.plot.barh(color='Darkblue')\n",
    "ax.set_xlabel ('Number of sent message')\n",
    "ax.set_ylabel(\"Users\")\n",
    "ax.set_title(\"Top 20 Users that sent more messages\")\n",
    "plt.show()"
   ]
  },
  {
   "cell_type": "code",
   "execution_count": null,
   "metadata": {},
   "outputs": [],
   "source": [
    "# add the letters count and the word count of each message to the dataframe\n",
    "rifesh_df['Letter_Count'] = rifesh_df['msg'].apply(lambda s : len(s))\n",
    "rifesh_df['Word_Count'] = rifesh_df['msg'].apply(lambda s : len(s.split(' ')))\n",
    "rifesh_df.head()"
   ]
  },
  {
   "cell_type": "code",
   "execution_count": null,
   "metadata": {},
   "outputs": [],
   "source": [
    "rifesh_df.describe(include='object')"
   ]
  },
  {
   "cell_type": "code",
   "execution_count": null,
   "metadata": {},
   "outputs": [],
   "source": [
    "# The number of letters, words used in the group till date\n",
    "rifesh_df['Letter_Count'].sum(), rifesh_df['Word_Count'].sum()"
   ]
  },
  {
   "cell_type": "code",
   "execution_count": null,
   "metadata": {},
   "outputs": [],
   "source": [
    "# Top 10 most engaged dates\n",
    "\n",
    "top10date = rifesh_df['Date'].value_counts().head(10)# Top 10 Dates on which the most number of messages were sent\n",
    "ax = top10date.plot.barh(color= 'Darkblue')\n",
    "ax.set_xlabel('Number of Messages')\n",
    "ax.set_ylabel('Date')\n",
    "ax.set_title('Top 10 date of engagement')"
   ]
  },
  {
   "cell_type": "code",
   "execution_count": null,
   "metadata": {},
   "outputs": [],
   "source": [
    "# adding the engagement hour  to the dataframe \n",
    "rifesh_df['Hour'] = rifesh_df['Time'].apply(lambda x : x.split(':')[0]) # The first token of a value in the Time Column contains the hour (Eg., \"20\" in \"20:15\")\n",
    "rifesh_df.head()"
   ]
  },
  {
   "cell_type": "code",
   "execution_count": null,
   "metadata": {},
   "outputs": [],
   "source": [
    "# top 10 most engaged hour of the day\n",
    "\n",
    "top10hourtochat = rifesh_df['Hour'].value_counts().head(10).sort_index(ascending=False) # Top 10 Hours of the day during which the most number of messages were sent\n",
    "ax = top10hourtochat.plot.line(color='Darkblue')\n",
    "ax.set_xlabel('Hour of Day')\n",
    "ax.set_ylabel('Number of messages')\n",
    "ax.set_title('Top Hours of engagement by Users')"
   ]
  },
  {
   "cell_type": "code",
   "execution_count": null,
   "metadata": {},
   "outputs": [],
   "source": [
    "# Generating the words used and their frequencies of use.\n",
    "def gen_freq(text):\n",
    "    #Will store the list of words\n",
    "    word_list = []\n",
    "\n",
    "    #Loop over all the messages and extract words into word_list\n",
    "    for tw_words in text.split():\n",
    "        word_list.extend(tw_words)\n",
    "\n",
    "    #Create word frequencies using word_list\n",
    "    word_freq = pd.Series(word_list).value_counts()\n",
    "\n",
    "    #Print top 20 words\n",
    "    word_freq[:20]\n",
    "    \n",
    "    return word_freq\n",
    "\n",
    "gen_freq(rifesh_df.msg.str)[:10]"
   ]
  },
  {
   "cell_type": "code",
   "execution_count": null,
   "metadata": {},
   "outputs": [],
   "source": [
    "# Determine the frequency of a word in the group chat\n",
    "def word_frequency(word, text):\n",
    "    word_list = []\n",
    "\n",
    "    #Loop over all the chats and extract words into word_list\n",
    "    for tw_words in text.split():\n",
    "        word_list.extend(tw_words)\n",
    "    if word in word_list:\n",
    "        \n",
    "        return (str(word.upper())+\", appeared in the chat \"+str(word_list.count(word.lower())) + \" times.\")\n",
    "    else:\n",
    "        return str(word) + \" hasn't been used yet.\"\n",
    "\n",
    "#you can replace the below words with any word you may want to target in the chat\n",
    "print(word_frequency('google', rifesh_df.msg.str))\n",
    "print(word_frequency('git', rifesh_df.msg.str))\n",
    "print(word_frequency('stack', rifesh_df.msg.str))\n",
    "print(word_frequency('money', rifesh_df.msg.str))\n",
    "print(word_frequency('community', rifesh_df.msg.str))\n",
    "print(word_frequency('Dev', rifesh_df.msg.str))"
   ]
  },
  {
   "cell_type": "code",
   "execution_count": null,
   "metadata": {},
   "outputs": [],
   "source": [
    "# cleaning the texts of the chats further\n",
    "\n",
    "def clean_text(text):\n",
    "    #Remove RT\n",
    "    text = re.sub(r'RT', '', text)\n",
    "    \n",
    "    #Fix &\n",
    "    text = re.sub(r'&amp;', '&', text)\n",
    "    \n",
    "    #Remove punctuations\n",
    "    text = re.sub(r'[?!.;:,#@-]', '', text)\n",
    "    \n",
    "    #Remove unneccessary word\n",
    "    text = re.sub(r'omitted>', '', text)\n",
    "    text = re.sub(r'<Media', '<', text)\n",
    "    text = re.sub(r'will', '', text)\n",
    "    text = re.sub(r'thanks', '', text)\n",
    "    \n",
    "    #Convert to lowercase to maintain consistency\n",
    "    text = text.lower()\n",
    "    return text"
   ]
  },
  {
   "cell_type": "code",
   "execution_count": null,
   "metadata": {},
   "outputs": [],
   "source": [
    "#Import list of stopwords (frequently used words)\n",
    "\n",
    "from wordcloud import STOPWORDS\n",
    "from wordcloud import WordCloud\n",
    "\n",
    "\n",
    "print(STOPWORDS)"
   ]
  },
  {
   "cell_type": "code",
   "execution_count": null,
   "metadata": {},
   "outputs": [],
   "source": [
    "# Remove stopwords from the messages and visualise the most used words after the stop words.\n",
    "\n",
    "text = rifesh_df.msg.apply(lambda x: clean_text(x))\n",
    "word_freq = gen_freq(text.str)*100\n",
    "word_freq = word_freq.drop(labels=STOPWORDS, errors='ignore')\n",
    "\n",
    "#Generate word cloud\n",
    "wc = WordCloud(width=450, height=400, max_words=300, background_color='black').generate_from_frequencies(word_freq)\n",
    "\n",
    "plt.figure(figsize=(12, 14))\n",
    "plt.imshow(wc, interpolation='bilinear')\n",
    "plt.axis('off')\n",
    "plt.show()\n"
   ]
  },
  {
   "cell_type": "code",
   "execution_count": null,
   "metadata": {},
   "outputs": [],
   "source": []
  }
 ],
 "metadata": {
  "kernelspec": {
   "display_name": "Python 3",
   "language": "python",
   "name": "python3"
  },
  "language_info": {
   "codemirror_mode": {
    "name": "ipython",
    "version": 3
   },
   "file_extension": ".py",
   "mimetype": "text/x-python",
   "name": "python",
   "nbconvert_exporter": "python",
   "pygments_lexer": "ipython3",
   "version": "3.7.0"
  }
 },
 "nbformat": 4,
 "nbformat_minor": 2
}
